{
 "cells": [
  {
   "cell_type": "code",
   "execution_count": 1,
   "id": "3622ba18-9428-4ba6-bfcc-33ec1246e2bb",
   "metadata": {},
   "outputs": [],
   "source": [
    "import pandas as pd\n",
    "import numpy as np\n",
    "import matplotlib.pyplot as plt\n",
    "import seaborn as sns"
   ]
  },
  {
   "cell_type": "code",
   "execution_count": 69,
   "id": "f9704e05-53cd-4ab8-83f0-d800019ed45e",
   "metadata": {},
   "outputs": [],
   "source": [
    "\n",
    "\n",
    "sheet_names = ['UserDetails.csv', 'CookingSessions.csv', 'OrderDetails.csv']\n",
    "\n",
    "data = pd.read_excel('Assignment.xlsx', sheet_name=sheet_names)\n",
    "\n",
    "# Access individual DataFrames\n",
    "UserDetails = data['UserDetails.csv']\n",
    "Sessions = data['CookingSessions.csv']\n",
    "Orders = data['OrderDetails.csv']\n",
    "\n"
   ]
  },
  {
   "cell_type": "code",
   "execution_count": 71,
   "id": "7f0610c8-596c-42ad-b201-d6a98509b034",
   "metadata": {},
   "outputs": [
    {
     "data": {
      "text/html": [
       "<div>\n",
       "<style scoped>\n",
       "    .dataframe tbody tr th:only-of-type {\n",
       "        vertical-align: middle;\n",
       "    }\n",
       "\n",
       "    .dataframe tbody tr th {\n",
       "        vertical-align: top;\n",
       "    }\n",
       "\n",
       "    .dataframe thead th {\n",
       "        text-align: right;\n",
       "    }\n",
       "</style>\n",
       "<table border=\"1\" class=\"dataframe\">\n",
       "  <thead>\n",
       "    <tr style=\"text-align: right;\">\n",
       "      <th></th>\n",
       "      <th>User ID</th>\n",
       "      <th>User Name</th>\n",
       "      <th>Age</th>\n",
       "      <th>Location</th>\n",
       "      <th>Registration Date</th>\n",
       "      <th>Phone</th>\n",
       "      <th>Email</th>\n",
       "      <th>Favorite Meal</th>\n",
       "      <th>Total Orders</th>\n",
       "    </tr>\n",
       "  </thead>\n",
       "  <tbody>\n",
       "    <tr>\n",
       "      <th>0</th>\n",
       "      <td>U001</td>\n",
       "      <td>Alice Johnson</td>\n",
       "      <td>28</td>\n",
       "      <td>New York</td>\n",
       "      <td>2023-01-15</td>\n",
       "      <td>123-456-7890</td>\n",
       "      <td>alice@email.com</td>\n",
       "      <td>Dinner</td>\n",
       "      <td>12</td>\n",
       "    </tr>\n",
       "    <tr>\n",
       "      <th>1</th>\n",
       "      <td>U002</td>\n",
       "      <td>Bob Smith</td>\n",
       "      <td>35</td>\n",
       "      <td>Los Angeles</td>\n",
       "      <td>2023-02-20</td>\n",
       "      <td>987-654-3210</td>\n",
       "      <td>bob@email.com</td>\n",
       "      <td>Lunch</td>\n",
       "      <td>8</td>\n",
       "    </tr>\n",
       "    <tr>\n",
       "      <th>2</th>\n",
       "      <td>U003</td>\n",
       "      <td>Charlie Lee</td>\n",
       "      <td>42</td>\n",
       "      <td>Chicago</td>\n",
       "      <td>2023-03-10</td>\n",
       "      <td>555-123-4567</td>\n",
       "      <td>charlie@email.com</td>\n",
       "      <td>Breakfast</td>\n",
       "      <td>15</td>\n",
       "    </tr>\n",
       "    <tr>\n",
       "      <th>3</th>\n",
       "      <td>U004</td>\n",
       "      <td>David Brown</td>\n",
       "      <td>27</td>\n",
       "      <td>San Francisco</td>\n",
       "      <td>2023-04-05</td>\n",
       "      <td>444-333-2222</td>\n",
       "      <td>david@email.com</td>\n",
       "      <td>Dinner</td>\n",
       "      <td>10</td>\n",
       "    </tr>\n",
       "    <tr>\n",
       "      <th>4</th>\n",
       "      <td>U005</td>\n",
       "      <td>Emma White</td>\n",
       "      <td>30</td>\n",
       "      <td>Seattle</td>\n",
       "      <td>2023-05-22</td>\n",
       "      <td>777-888-9999</td>\n",
       "      <td>emma@email.com</td>\n",
       "      <td>Lunch</td>\n",
       "      <td>9</td>\n",
       "    </tr>\n",
       "  </tbody>\n",
       "</table>\n",
       "</div>"
      ],
      "text/plain": [
       "  User ID      User Name  Age       Location Registration Date         Phone  \\\n",
       "0    U001  Alice Johnson   28       New York        2023-01-15  123-456-7890   \n",
       "1    U002      Bob Smith   35    Los Angeles        2023-02-20  987-654-3210   \n",
       "2    U003    Charlie Lee   42        Chicago        2023-03-10  555-123-4567   \n",
       "3    U004    David Brown   27  San Francisco        2023-04-05  444-333-2222   \n",
       "4    U005     Emma White   30        Seattle        2023-05-22  777-888-9999   \n",
       "\n",
       "               Email Favorite Meal  Total Orders  \n",
       "0    alice@email.com        Dinner            12  \n",
       "1      bob@email.com         Lunch             8  \n",
       "2  charlie@email.com     Breakfast            15  \n",
       "3    david@email.com        Dinner            10  \n",
       "4     emma@email.com         Lunch             9  "
      ]
     },
     "execution_count": 71,
     "metadata": {},
     "output_type": "execute_result"
    }
   ],
   "source": [
    "UserDetails.head()"
   ]
  },
  {
   "cell_type": "code",
   "execution_count": 20,
   "id": "612e3465-e3cc-4aef-a1a9-9e033f24b96f",
   "metadata": {},
   "outputs": [
    {
     "data": {
      "text/html": [
       "<div>\n",
       "<style scoped>\n",
       "    .dataframe tbody tr th:only-of-type {\n",
       "        vertical-align: middle;\n",
       "    }\n",
       "\n",
       "    .dataframe tbody tr th {\n",
       "        vertical-align: top;\n",
       "    }\n",
       "\n",
       "    .dataframe thead th {\n",
       "        text-align: right;\n",
       "    }\n",
       "</style>\n",
       "<table border=\"1\" class=\"dataframe\">\n",
       "  <thead>\n",
       "    <tr style=\"text-align: right;\">\n",
       "      <th></th>\n",
       "      <th>Session ID</th>\n",
       "      <th>User ID</th>\n",
       "      <th>Dish Name</th>\n",
       "      <th>Meal Type</th>\n",
       "      <th>Session Start</th>\n",
       "      <th>Session End</th>\n",
       "      <th>Duration (mins)</th>\n",
       "      <th>Session Rating</th>\n",
       "    </tr>\n",
       "  </thead>\n",
       "  <tbody>\n",
       "    <tr>\n",
       "      <th>0</th>\n",
       "      <td>S001</td>\n",
       "      <td>U001</td>\n",
       "      <td>Spaghetti</td>\n",
       "      <td>Dinner</td>\n",
       "      <td>2024-12-01 19:00:00</td>\n",
       "      <td>2024-12-01 19:30:00</td>\n",
       "      <td>30</td>\n",
       "      <td>4.5</td>\n",
       "    </tr>\n",
       "    <tr>\n",
       "      <th>1</th>\n",
       "      <td>S002</td>\n",
       "      <td>U002</td>\n",
       "      <td>Caesar Salad</td>\n",
       "      <td>Lunch</td>\n",
       "      <td>2024-12-01 12:00:00</td>\n",
       "      <td>2024-12-01 12:20:00</td>\n",
       "      <td>20</td>\n",
       "      <td>4.0</td>\n",
       "    </tr>\n",
       "    <tr>\n",
       "      <th>2</th>\n",
       "      <td>S003</td>\n",
       "      <td>U003</td>\n",
       "      <td>Grilled Chicken</td>\n",
       "      <td>Dinner</td>\n",
       "      <td>2024-12-02 19:30:00</td>\n",
       "      <td>2024-12-02 20:10:00</td>\n",
       "      <td>40</td>\n",
       "      <td>4.8</td>\n",
       "    </tr>\n",
       "    <tr>\n",
       "      <th>3</th>\n",
       "      <td>S004</td>\n",
       "      <td>U001</td>\n",
       "      <td>Pancakes</td>\n",
       "      <td>Breakfast</td>\n",
       "      <td>2024-12-02 07:30:00</td>\n",
       "      <td>2024-12-02 08:00:00</td>\n",
       "      <td>30</td>\n",
       "      <td>4.2</td>\n",
       "    </tr>\n",
       "    <tr>\n",
       "      <th>4</th>\n",
       "      <td>S005</td>\n",
       "      <td>U004</td>\n",
       "      <td>Caesar Salad</td>\n",
       "      <td>Lunch</td>\n",
       "      <td>2024-12-03 13:00:00</td>\n",
       "      <td>2024-12-03 13:15:00</td>\n",
       "      <td>15</td>\n",
       "      <td>4.7</td>\n",
       "    </tr>\n",
       "  </tbody>\n",
       "</table>\n",
       "</div>"
      ],
      "text/plain": [
       "  Session ID User ID        Dish Name  Meal Type       Session Start  \\\n",
       "0       S001    U001        Spaghetti     Dinner 2024-12-01 19:00:00   \n",
       "1       S002    U002     Caesar Salad      Lunch 2024-12-01 12:00:00   \n",
       "2       S003    U003  Grilled Chicken     Dinner 2024-12-02 19:30:00   \n",
       "3       S004    U001         Pancakes  Breakfast 2024-12-02 07:30:00   \n",
       "4       S005    U004     Caesar Salad      Lunch 2024-12-03 13:00:00   \n",
       "\n",
       "          Session End  Duration (mins)  Session Rating  \n",
       "0 2024-12-01 19:30:00               30             4.5  \n",
       "1 2024-12-01 12:20:00               20             4.0  \n",
       "2 2024-12-02 20:10:00               40             4.8  \n",
       "3 2024-12-02 08:00:00               30             4.2  \n",
       "4 2024-12-03 13:15:00               15             4.7  "
      ]
     },
     "execution_count": 20,
     "metadata": {},
     "output_type": "execute_result"
    }
   ],
   "source": [
    "Sessions.head()"
   ]
  },
  {
   "cell_type": "code",
   "execution_count": 47,
   "id": "9da90a25-9d84-44cc-a6ce-9d3e97625689",
   "metadata": {},
   "outputs": [
    {
     "data": {
      "text/html": [
       "<div>\n",
       "<style scoped>\n",
       "    .dataframe tbody tr th:only-of-type {\n",
       "        vertical-align: middle;\n",
       "    }\n",
       "\n",
       "    .dataframe tbody tr th {\n",
       "        vertical-align: top;\n",
       "    }\n",
       "\n",
       "    .dataframe thead th {\n",
       "        text-align: right;\n",
       "    }\n",
       "</style>\n",
       "<table border=\"1\" class=\"dataframe\">\n",
       "  <thead>\n",
       "    <tr style=\"text-align: right;\">\n",
       "      <th></th>\n",
       "      <th>Order ID</th>\n",
       "      <th>User ID</th>\n",
       "      <th>Order Date</th>\n",
       "      <th>Meal Type</th>\n",
       "      <th>Dish Name</th>\n",
       "      <th>Order Status</th>\n",
       "      <th>Amount (USD)</th>\n",
       "      <th>Time of Day</th>\n",
       "      <th>Rating</th>\n",
       "      <th>Session ID</th>\n",
       "    </tr>\n",
       "  </thead>\n",
       "  <tbody>\n",
       "    <tr>\n",
       "      <th>0</th>\n",
       "      <td>1001</td>\n",
       "      <td>U001</td>\n",
       "      <td>2024-12-01</td>\n",
       "      <td>Dinner</td>\n",
       "      <td>Spaghetti</td>\n",
       "      <td>Completed</td>\n",
       "      <td>15.0</td>\n",
       "      <td>Night</td>\n",
       "      <td>5.0</td>\n",
       "      <td>S001</td>\n",
       "    </tr>\n",
       "    <tr>\n",
       "      <th>1</th>\n",
       "      <td>1002</td>\n",
       "      <td>U002</td>\n",
       "      <td>2024-12-01</td>\n",
       "      <td>Lunch</td>\n",
       "      <td>Caesar Salad</td>\n",
       "      <td>Completed</td>\n",
       "      <td>10.0</td>\n",
       "      <td>Day</td>\n",
       "      <td>4.0</td>\n",
       "      <td>S002</td>\n",
       "    </tr>\n",
       "    <tr>\n",
       "      <th>2</th>\n",
       "      <td>1003</td>\n",
       "      <td>U003</td>\n",
       "      <td>2024-12-02</td>\n",
       "      <td>Dinner</td>\n",
       "      <td>Grilled Chicken</td>\n",
       "      <td>Canceled</td>\n",
       "      <td>12.5</td>\n",
       "      <td>Night</td>\n",
       "      <td>NaN</td>\n",
       "      <td>S003</td>\n",
       "    </tr>\n",
       "    <tr>\n",
       "      <th>3</th>\n",
       "      <td>1004</td>\n",
       "      <td>U001</td>\n",
       "      <td>2024-12-02</td>\n",
       "      <td>Breakfast</td>\n",
       "      <td>Pancakes</td>\n",
       "      <td>Completed</td>\n",
       "      <td>8.0</td>\n",
       "      <td>Morning</td>\n",
       "      <td>4.0</td>\n",
       "      <td>S004</td>\n",
       "    </tr>\n",
       "    <tr>\n",
       "      <th>4</th>\n",
       "      <td>1005</td>\n",
       "      <td>U004</td>\n",
       "      <td>2024-12-03</td>\n",
       "      <td>Lunch</td>\n",
       "      <td>Caesar Salad</td>\n",
       "      <td>Completed</td>\n",
       "      <td>9.0</td>\n",
       "      <td>Day</td>\n",
       "      <td>4.0</td>\n",
       "      <td>S005</td>\n",
       "    </tr>\n",
       "  </tbody>\n",
       "</table>\n",
       "</div>"
      ],
      "text/plain": [
       "   Order ID User ID Order Date  Meal Type        Dish Name Order Status  \\\n",
       "0      1001    U001 2024-12-01     Dinner        Spaghetti    Completed   \n",
       "1      1002    U002 2024-12-01      Lunch     Caesar Salad    Completed   \n",
       "2      1003    U003 2024-12-02     Dinner  Grilled Chicken     Canceled   \n",
       "3      1004    U001 2024-12-02  Breakfast         Pancakes    Completed   \n",
       "4      1005    U004 2024-12-03      Lunch     Caesar Salad    Completed   \n",
       "\n",
       "   Amount (USD) Time of Day  Rating Session ID  \n",
       "0          15.0       Night     5.0       S001  \n",
       "1          10.0         Day     4.0       S002  \n",
       "2          12.5       Night     NaN       S003  \n",
       "3           8.0     Morning     4.0       S004  \n",
       "4           9.0         Day     4.0       S005  "
      ]
     },
     "execution_count": 47,
     "metadata": {},
     "output_type": "execute_result"
    }
   ],
   "source": [
    "Orders.head()"
   ]
  },
  {
   "cell_type": "code",
   "execution_count": 26,
   "id": "4ab65673-6bfe-4217-a371-f92ade7a3bf0",
   "metadata": {},
   "outputs": [
    {
     "name": "stdout",
     "output_type": "stream",
     "text": [
      "User ID              0\n",
      "User Name            0\n",
      "Age                  0\n",
      "Location             0\n",
      "Registration Date    0\n",
      "Phone                0\n",
      "Email                0\n",
      "Favorite Meal        0\n",
      "Total Orders         0\n",
      "dtype: int64\n"
     ]
    }
   ],
   "source": [
    "# Check for missing values\n",
    "print(UserDetails.isnull().sum())\n"
   ]
  },
  {
   "cell_type": "code",
   "execution_count": 28,
   "id": "84d3bbb8-6e5f-4b6d-9ead-cee0f926f758",
   "metadata": {},
   "outputs": [
    {
     "name": "stdout",
     "output_type": "stream",
     "text": [
      "Session ID         0\n",
      "User ID            0\n",
      "Dish Name          0\n",
      "Meal Type          0\n",
      "Session Start      0\n",
      "Session End        0\n",
      "Duration (mins)    0\n",
      "Session Rating     0\n",
      "dtype: int64\n"
     ]
    }
   ],
   "source": [
    "print(Sessions.isnull().sum())\n"
   ]
  },
  {
   "cell_type": "code",
   "execution_count": 30,
   "id": "db3b9c92-9d7d-4d0b-b8f5-4df649ffa765",
   "metadata": {},
   "outputs": [
    {
     "name": "stdout",
     "output_type": "stream",
     "text": [
      "Order ID        0\n",
      "User ID         0\n",
      "Order Date      0\n",
      "Meal Type       0\n",
      "Dish Name       0\n",
      "Order Status    0\n",
      "Amount (USD)    0\n",
      "Time of Day     0\n",
      "Rating          2\n",
      "Session ID      0\n",
      "dtype: int64\n"
     ]
    }
   ],
   "source": [
    "print(Orders.isnull().sum())"
   ]
  },
  {
   "cell_type": "code",
   "execution_count": 33,
   "id": "92c6b603-3efb-437f-8f74-3197db5c373e",
   "metadata": {},
   "outputs": [
    {
     "name": "stdout",
     "output_type": "stream",
     "text": [
      "<class 'pandas.core.frame.DataFrame'>\n",
      "RangeIndex: 10 entries, 0 to 9\n",
      "Data columns (total 9 columns):\n",
      " #   Column             Non-Null Count  Dtype         \n",
      "---  ------             --------------  -----         \n",
      " 0   User ID            10 non-null     object        \n",
      " 1   User Name          10 non-null     object        \n",
      " 2   Age                10 non-null     int64         \n",
      " 3   Location           10 non-null     object        \n",
      " 4   Registration Date  10 non-null     datetime64[ns]\n",
      " 5   Phone              10 non-null     object        \n",
      " 6   Email              10 non-null     object        \n",
      " 7   Favorite Meal      10 non-null     object        \n",
      " 8   Total Orders       10 non-null     int64         \n",
      "dtypes: datetime64[ns](1), int64(2), object(6)\n",
      "memory usage: 852.0+ bytes\n"
     ]
    }
   ],
   "source": [
    "UserDetails.info()"
   ]
  },
  {
   "cell_type": "code",
   "execution_count": 35,
   "id": "c7bcb3fa-8774-4ec9-bac8-92d2aec5e723",
   "metadata": {},
   "outputs": [
    {
     "name": "stdout",
     "output_type": "stream",
     "text": [
      "<class 'pandas.core.frame.DataFrame'>\n",
      "RangeIndex: 16 entries, 0 to 15\n",
      "Data columns (total 8 columns):\n",
      " #   Column           Non-Null Count  Dtype         \n",
      "---  ------           --------------  -----         \n",
      " 0   Session ID       16 non-null     object        \n",
      " 1   User ID          16 non-null     object        \n",
      " 2   Dish Name        16 non-null     object        \n",
      " 3   Meal Type        16 non-null     object        \n",
      " 4   Session Start    16 non-null     datetime64[ns]\n",
      " 5   Session End      16 non-null     datetime64[ns]\n",
      " 6   Duration (mins)  16 non-null     int64         \n",
      " 7   Session Rating   16 non-null     float64       \n",
      "dtypes: datetime64[ns](2), float64(1), int64(1), object(4)\n",
      "memory usage: 1.1+ KB\n"
     ]
    }
   ],
   "source": [
    "Sessions.info()"
   ]
  },
  {
   "cell_type": "code",
   "execution_count": 37,
   "id": "e2c8900e-0572-4cbf-bcd6-c8dbbd85cc12",
   "metadata": {},
   "outputs": [
    {
     "name": "stdout",
     "output_type": "stream",
     "text": [
      "<class 'pandas.core.frame.DataFrame'>\n",
      "RangeIndex: 16 entries, 0 to 15\n",
      "Data columns (total 10 columns):\n",
      " #   Column        Non-Null Count  Dtype         \n",
      "---  ------        --------------  -----         \n",
      " 0   Order ID      16 non-null     int64         \n",
      " 1   User ID       16 non-null     object        \n",
      " 2   Order Date    16 non-null     datetime64[ns]\n",
      " 3   Meal Type     16 non-null     object        \n",
      " 4   Dish Name     16 non-null     object        \n",
      " 5   Order Status  16 non-null     object        \n",
      " 6   Amount (USD)  16 non-null     float64       \n",
      " 7   Time of Day   16 non-null     object        \n",
      " 8   Rating        14 non-null     float64       \n",
      " 9   Session ID    16 non-null     object        \n",
      "dtypes: datetime64[ns](1), float64(2), int64(1), object(6)\n",
      "memory usage: 1.4+ KB\n"
     ]
    }
   ],
   "source": [
    "Orders.info()"
   ]
  },
  {
   "cell_type": "markdown",
   "id": "1d1814a5-ab46-4cf2-a72e-de42b27b06be",
   "metadata": {},
   "source": [
    "### The Rating column in the Orders dataset contains two null values. These null values will be imputed using the column's mean to maintain data consistency and accuracy.\n",
    "\n",
    "\n",
    "\n",
    "\n",
    "\n",
    "\n"
   ]
  },
  {
   "cell_type": "code",
   "execution_count": 73,
   "id": "7a86d6b6-805e-4bfb-b899-8a21393e27a7",
   "metadata": {},
   "outputs": [],
   "source": [
    "Orders['Rating'] = Orders['Rating'].fillna(mean_rating)"
   ]
  },
  {
   "cell_type": "code",
   "execution_count": 75,
   "id": "d96a1a12-c2e6-488b-b431-3a21ece341da",
   "metadata": {},
   "outputs": [
    {
     "name": "stdout",
     "output_type": "stream",
     "text": [
      "0\n"
     ]
    }
   ],
   "source": [
    "# to confirm null values filled\n",
    "print(Orders['Rating'].isnull().sum())"
   ]
  },
  {
   "cell_type": "code",
   "execution_count": 79,
   "id": "826ee631-07c8-48f9-9419-3362f64aac34",
   "metadata": {},
   "outputs": [],
   "source": [
    "merged = pd.merge(UserDetails, Sessions, on='User ID', how='left')\n"
   ]
  },
  {
   "cell_type": "code",
   "execution_count": 81,
   "id": "f759ee96-59ed-4c0a-8295-2a1d930d4be5",
   "metadata": {},
   "outputs": [],
   "source": [
    "merged_data = pd.merge(merged, Orders, on='User ID', how='left')"
   ]
  },
  {
   "cell_type": "code",
   "execution_count": 83,
   "id": "223113a0-cb06-413d-bb65-f58fb940599a",
   "metadata": {},
   "outputs": [
    {
     "data": {
      "text/html": [
       "<div>\n",
       "<style scoped>\n",
       "    .dataframe tbody tr th:only-of-type {\n",
       "        vertical-align: middle;\n",
       "    }\n",
       "\n",
       "    .dataframe tbody tr th {\n",
       "        vertical-align: top;\n",
       "    }\n",
       "\n",
       "    .dataframe thead th {\n",
       "        text-align: right;\n",
       "    }\n",
       "</style>\n",
       "<table border=\"1\" class=\"dataframe\">\n",
       "  <thead>\n",
       "    <tr style=\"text-align: right;\">\n",
       "      <th></th>\n",
       "      <th>User ID</th>\n",
       "      <th>User Name</th>\n",
       "      <th>Age</th>\n",
       "      <th>Location</th>\n",
       "      <th>Registration Date</th>\n",
       "      <th>Phone</th>\n",
       "      <th>Email</th>\n",
       "      <th>Favorite Meal</th>\n",
       "      <th>Total Orders</th>\n",
       "      <th>Session ID_x</th>\n",
       "      <th>...</th>\n",
       "      <th>Session Rating</th>\n",
       "      <th>Order ID</th>\n",
       "      <th>Order Date</th>\n",
       "      <th>Meal Type_y</th>\n",
       "      <th>Dish Name_y</th>\n",
       "      <th>Order Status</th>\n",
       "      <th>Amount (USD)</th>\n",
       "      <th>Time of Day</th>\n",
       "      <th>Rating</th>\n",
       "      <th>Session ID_y</th>\n",
       "    </tr>\n",
       "  </thead>\n",
       "  <tbody>\n",
       "    <tr>\n",
       "      <th>0</th>\n",
       "      <td>U001</td>\n",
       "      <td>Alice Johnson</td>\n",
       "      <td>28</td>\n",
       "      <td>New York</td>\n",
       "      <td>2023-01-15</td>\n",
       "      <td>123-456-7890</td>\n",
       "      <td>alice@email.com</td>\n",
       "      <td>Dinner</td>\n",
       "      <td>12</td>\n",
       "      <td>S001</td>\n",
       "      <td>...</td>\n",
       "      <td>4.5</td>\n",
       "      <td>1001.0</td>\n",
       "      <td>2024-12-01</td>\n",
       "      <td>Dinner</td>\n",
       "      <td>Spaghetti</td>\n",
       "      <td>Completed</td>\n",
       "      <td>15.0</td>\n",
       "      <td>Night</td>\n",
       "      <td>5.0</td>\n",
       "      <td>S001</td>\n",
       "    </tr>\n",
       "    <tr>\n",
       "      <th>1</th>\n",
       "      <td>U001</td>\n",
       "      <td>Alice Johnson</td>\n",
       "      <td>28</td>\n",
       "      <td>New York</td>\n",
       "      <td>2023-01-15</td>\n",
       "      <td>123-456-7890</td>\n",
       "      <td>alice@email.com</td>\n",
       "      <td>Dinner</td>\n",
       "      <td>12</td>\n",
       "      <td>S001</td>\n",
       "      <td>...</td>\n",
       "      <td>4.5</td>\n",
       "      <td>1004.0</td>\n",
       "      <td>2024-12-02</td>\n",
       "      <td>Breakfast</td>\n",
       "      <td>Pancakes</td>\n",
       "      <td>Completed</td>\n",
       "      <td>8.0</td>\n",
       "      <td>Morning</td>\n",
       "      <td>4.0</td>\n",
       "      <td>S004</td>\n",
       "    </tr>\n",
       "    <tr>\n",
       "      <th>2</th>\n",
       "      <td>U001</td>\n",
       "      <td>Alice Johnson</td>\n",
       "      <td>28</td>\n",
       "      <td>New York</td>\n",
       "      <td>2023-01-15</td>\n",
       "      <td>123-456-7890</td>\n",
       "      <td>alice@email.com</td>\n",
       "      <td>Dinner</td>\n",
       "      <td>12</td>\n",
       "      <td>S001</td>\n",
       "      <td>...</td>\n",
       "      <td>4.5</td>\n",
       "      <td>1009.0</td>\n",
       "      <td>2024-12-05</td>\n",
       "      <td>Dinner</td>\n",
       "      <td>Grilled Chicken</td>\n",
       "      <td>Completed</td>\n",
       "      <td>12.0</td>\n",
       "      <td>Night</td>\n",
       "      <td>5.0</td>\n",
       "      <td>S009</td>\n",
       "    </tr>\n",
       "    <tr>\n",
       "      <th>3</th>\n",
       "      <td>U001</td>\n",
       "      <td>Alice Johnson</td>\n",
       "      <td>28</td>\n",
       "      <td>New York</td>\n",
       "      <td>2023-01-15</td>\n",
       "      <td>123-456-7890</td>\n",
       "      <td>alice@email.com</td>\n",
       "      <td>Dinner</td>\n",
       "      <td>12</td>\n",
       "      <td>S004</td>\n",
       "      <td>...</td>\n",
       "      <td>4.2</td>\n",
       "      <td>1001.0</td>\n",
       "      <td>2024-12-01</td>\n",
       "      <td>Dinner</td>\n",
       "      <td>Spaghetti</td>\n",
       "      <td>Completed</td>\n",
       "      <td>15.0</td>\n",
       "      <td>Night</td>\n",
       "      <td>5.0</td>\n",
       "      <td>S001</td>\n",
       "    </tr>\n",
       "    <tr>\n",
       "      <th>4</th>\n",
       "      <td>U001</td>\n",
       "      <td>Alice Johnson</td>\n",
       "      <td>28</td>\n",
       "      <td>New York</td>\n",
       "      <td>2023-01-15</td>\n",
       "      <td>123-456-7890</td>\n",
       "      <td>alice@email.com</td>\n",
       "      <td>Dinner</td>\n",
       "      <td>12</td>\n",
       "      <td>S004</td>\n",
       "      <td>...</td>\n",
       "      <td>4.2</td>\n",
       "      <td>1004.0</td>\n",
       "      <td>2024-12-02</td>\n",
       "      <td>Breakfast</td>\n",
       "      <td>Pancakes</td>\n",
       "      <td>Completed</td>\n",
       "      <td>8.0</td>\n",
       "      <td>Morning</td>\n",
       "      <td>4.0</td>\n",
       "      <td>S004</td>\n",
       "    </tr>\n",
       "  </tbody>\n",
       "</table>\n",
       "<p>5 rows × 25 columns</p>\n",
       "</div>"
      ],
      "text/plain": [
       "  User ID      User Name  Age  Location Registration Date         Phone  \\\n",
       "0    U001  Alice Johnson   28  New York        2023-01-15  123-456-7890   \n",
       "1    U001  Alice Johnson   28  New York        2023-01-15  123-456-7890   \n",
       "2    U001  Alice Johnson   28  New York        2023-01-15  123-456-7890   \n",
       "3    U001  Alice Johnson   28  New York        2023-01-15  123-456-7890   \n",
       "4    U001  Alice Johnson   28  New York        2023-01-15  123-456-7890   \n",
       "\n",
       "             Email Favorite Meal  Total Orders Session ID_x  ...  \\\n",
       "0  alice@email.com        Dinner            12         S001  ...   \n",
       "1  alice@email.com        Dinner            12         S001  ...   \n",
       "2  alice@email.com        Dinner            12         S001  ...   \n",
       "3  alice@email.com        Dinner            12         S004  ...   \n",
       "4  alice@email.com        Dinner            12         S004  ...   \n",
       "\n",
       "  Session Rating Order ID Order Date Meal Type_y      Dish Name_y  \\\n",
       "0            4.5   1001.0 2024-12-01      Dinner        Spaghetti   \n",
       "1            4.5   1004.0 2024-12-02   Breakfast         Pancakes   \n",
       "2            4.5   1009.0 2024-12-05      Dinner  Grilled Chicken   \n",
       "3            4.2   1001.0 2024-12-01      Dinner        Spaghetti   \n",
       "4            4.2   1004.0 2024-12-02   Breakfast         Pancakes   \n",
       "\n",
       "   Order Status  Amount (USD) Time of Day Rating Session ID_y  \n",
       "0     Completed          15.0       Night    5.0         S001  \n",
       "1     Completed           8.0     Morning    4.0         S004  \n",
       "2     Completed          12.0       Night    5.0         S009  \n",
       "3     Completed          15.0       Night    5.0         S001  \n",
       "4     Completed           8.0     Morning    4.0         S004  \n",
       "\n",
       "[5 rows x 25 columns]"
      ]
     },
     "execution_count": 83,
     "metadata": {},
     "output_type": "execute_result"
    }
   ],
   "source": [
    "merged_data.head()"
   ]
  },
  {
   "cell_type": "code",
   "execution_count": 87,
   "id": "d9677bdf-a79a-430f-8c07-2b417051dfa5",
   "metadata": {},
   "outputs": [
    {
     "data": {
      "text/plain": [
       "Index(['User ID', 'User Name', 'Age', 'Location', 'Registration Date', 'Phone',\n",
       "       'Email', 'Favorite Meal', 'Total Orders', 'Session ID_x', 'Dish Name_x',\n",
       "       'Meal Type_x', 'Session Start', 'Session End', 'Duration (mins)',\n",
       "       'Session Rating', 'Order ID', 'Order Date', 'Meal Type_y',\n",
       "       'Dish Name_y', 'Order Status', 'Amount (USD)', 'Time of Day', 'Rating',\n",
       "       'Session ID_y'],\n",
       "      dtype='object')"
      ]
     },
     "execution_count": 87,
     "metadata": {},
     "output_type": "execute_result"
    }
   ],
   "source": [
    "merged_data.columns"
   ]
  },
  {
   "cell_type": "code",
   "execution_count": 93,
   "id": "66669801-e85d-44f3-80f1-7f843d4865a4",
   "metadata": {},
   "outputs": [],
   "source": [
    "columns_to_keep = [\n",
    "    'User ID', 'User Name', 'Age', 'Location',\n",
    "    'Order ID', 'Order Date','Total Orders', 'Favorite Meal', 'Dish Name_y',\n",
    "    'Order Status', 'Amount (USD)', 'Time of Day', 'Rating',\n",
    "    'Session ID_y', 'Session Rating'\n",
    "]\n",
    "\n",
    "filtered_data = merged_data[columns_to_keep]\n",
    "\n",
    "\n"
   ]
  },
  {
   "cell_type": "code",
   "execution_count": 95,
   "id": "054ec3e6-b698-4cd0-8d25-542ee9a97d42",
   "metadata": {},
   "outputs": [
    {
     "data": {
      "text/html": [
       "<div>\n",
       "<style scoped>\n",
       "    .dataframe tbody tr th:only-of-type {\n",
       "        vertical-align: middle;\n",
       "    }\n",
       "\n",
       "    .dataframe tbody tr th {\n",
       "        vertical-align: top;\n",
       "    }\n",
       "\n",
       "    .dataframe thead th {\n",
       "        text-align: right;\n",
       "    }\n",
       "</style>\n",
       "<table border=\"1\" class=\"dataframe\">\n",
       "  <thead>\n",
       "    <tr style=\"text-align: right;\">\n",
       "      <th></th>\n",
       "      <th>User ID</th>\n",
       "      <th>User Name</th>\n",
       "      <th>Age</th>\n",
       "      <th>Location</th>\n",
       "      <th>Order ID</th>\n",
       "      <th>Order Date</th>\n",
       "      <th>Total Orders</th>\n",
       "      <th>Favorite Meal</th>\n",
       "      <th>Dish Name_y</th>\n",
       "      <th>Order Status</th>\n",
       "      <th>Amount (USD)</th>\n",
       "      <th>Time of Day</th>\n",
       "      <th>Rating</th>\n",
       "      <th>Session ID_y</th>\n",
       "      <th>Session Rating</th>\n",
       "    </tr>\n",
       "  </thead>\n",
       "  <tbody>\n",
       "    <tr>\n",
       "      <th>0</th>\n",
       "      <td>U001</td>\n",
       "      <td>Alice Johnson</td>\n",
       "      <td>28</td>\n",
       "      <td>New York</td>\n",
       "      <td>1001.0</td>\n",
       "      <td>2024-12-01</td>\n",
       "      <td>12</td>\n",
       "      <td>Dinner</td>\n",
       "      <td>Spaghetti</td>\n",
       "      <td>Completed</td>\n",
       "      <td>15.0</td>\n",
       "      <td>Night</td>\n",
       "      <td>5.0</td>\n",
       "      <td>S001</td>\n",
       "      <td>4.5</td>\n",
       "    </tr>\n",
       "    <tr>\n",
       "      <th>1</th>\n",
       "      <td>U001</td>\n",
       "      <td>Alice Johnson</td>\n",
       "      <td>28</td>\n",
       "      <td>New York</td>\n",
       "      <td>1004.0</td>\n",
       "      <td>2024-12-02</td>\n",
       "      <td>12</td>\n",
       "      <td>Dinner</td>\n",
       "      <td>Pancakes</td>\n",
       "      <td>Completed</td>\n",
       "      <td>8.0</td>\n",
       "      <td>Morning</td>\n",
       "      <td>4.0</td>\n",
       "      <td>S004</td>\n",
       "      <td>4.5</td>\n",
       "    </tr>\n",
       "    <tr>\n",
       "      <th>2</th>\n",
       "      <td>U001</td>\n",
       "      <td>Alice Johnson</td>\n",
       "      <td>28</td>\n",
       "      <td>New York</td>\n",
       "      <td>1009.0</td>\n",
       "      <td>2024-12-05</td>\n",
       "      <td>12</td>\n",
       "      <td>Dinner</td>\n",
       "      <td>Grilled Chicken</td>\n",
       "      <td>Completed</td>\n",
       "      <td>12.0</td>\n",
       "      <td>Night</td>\n",
       "      <td>5.0</td>\n",
       "      <td>S009</td>\n",
       "      <td>4.5</td>\n",
       "    </tr>\n",
       "    <tr>\n",
       "      <th>3</th>\n",
       "      <td>U001</td>\n",
       "      <td>Alice Johnson</td>\n",
       "      <td>28</td>\n",
       "      <td>New York</td>\n",
       "      <td>1001.0</td>\n",
       "      <td>2024-12-01</td>\n",
       "      <td>12</td>\n",
       "      <td>Dinner</td>\n",
       "      <td>Spaghetti</td>\n",
       "      <td>Completed</td>\n",
       "      <td>15.0</td>\n",
       "      <td>Night</td>\n",
       "      <td>5.0</td>\n",
       "      <td>S001</td>\n",
       "      <td>4.2</td>\n",
       "    </tr>\n",
       "    <tr>\n",
       "      <th>4</th>\n",
       "      <td>U001</td>\n",
       "      <td>Alice Johnson</td>\n",
       "      <td>28</td>\n",
       "      <td>New York</td>\n",
       "      <td>1004.0</td>\n",
       "      <td>2024-12-02</td>\n",
       "      <td>12</td>\n",
       "      <td>Dinner</td>\n",
       "      <td>Pancakes</td>\n",
       "      <td>Completed</td>\n",
       "      <td>8.0</td>\n",
       "      <td>Morning</td>\n",
       "      <td>4.0</td>\n",
       "      <td>S004</td>\n",
       "      <td>4.2</td>\n",
       "    </tr>\n",
       "  </tbody>\n",
       "</table>\n",
       "</div>"
      ],
      "text/plain": [
       "  User ID      User Name  Age  Location  Order ID Order Date  Total Orders  \\\n",
       "0    U001  Alice Johnson   28  New York    1001.0 2024-12-01            12   \n",
       "1    U001  Alice Johnson   28  New York    1004.0 2024-12-02            12   \n",
       "2    U001  Alice Johnson   28  New York    1009.0 2024-12-05            12   \n",
       "3    U001  Alice Johnson   28  New York    1001.0 2024-12-01            12   \n",
       "4    U001  Alice Johnson   28  New York    1004.0 2024-12-02            12   \n",
       "\n",
       "  Favorite Meal      Dish Name_y Order Status  Amount (USD) Time of Day  \\\n",
       "0        Dinner        Spaghetti    Completed          15.0       Night   \n",
       "1        Dinner         Pancakes    Completed           8.0     Morning   \n",
       "2        Dinner  Grilled Chicken    Completed          12.0       Night   \n",
       "3        Dinner        Spaghetti    Completed          15.0       Night   \n",
       "4        Dinner         Pancakes    Completed           8.0     Morning   \n",
       "\n",
       "   Rating Session ID_y  Session Rating  \n",
       "0     5.0         S001             4.5  \n",
       "1     4.0         S004             4.5  \n",
       "2     5.0         S009             4.5  \n",
       "3     5.0         S001             4.2  \n",
       "4     4.0         S004             4.2  "
      ]
     },
     "execution_count": 95,
     "metadata": {},
     "output_type": "execute_result"
    }
   ],
   "source": [
    "filtered_data.head()"
   ]
  },
  {
   "cell_type": "code",
   "execution_count": 97,
   "id": "75d663f8-c766-4169-a80e-47ffb3a28c55",
   "metadata": {},
   "outputs": [
    {
     "name": "stdout",
     "output_type": "stream",
     "text": [
      "Age\n",
      "28    9\n",
      "35    9\n",
      "42    9\n",
      "27    4\n",
      "30    4\n",
      "25    1\n",
      "38    1\n",
      "31    1\n",
      "33    1\n",
      "29    1\n",
      "Name: count, dtype: int64\n"
     ]
    }
   ],
   "source": [
    "age_distribution = filtered_data['Age'].value_counts()\n",
    "print(age_distribution)\n"
   ]
  },
  {
   "cell_type": "code",
   "execution_count": 101,
   "id": "cf40787d-9b6a-4982-a509-f891898fed26",
   "metadata": {},
   "outputs": [
    {
     "name": "stdout",
     "output_type": "stream",
     "text": [
      "Dish Name_y\n",
      "Spaghetti          9\n",
      "Grilled Chicken    9\n",
      "Caesar Salad       7\n",
      "Pancakes           6\n",
      "Veggie Burger      4\n",
      "Oatmeal            3\n",
      "Name: count, dtype: int64\n"
     ]
    },
    {
     "data": {
      "image/png": "[encoded data removed]",
      "text/plain": [
       "<Figure size 640x480 with 1 Axes>"
      ]
     },
     "metadata": {},
     "output_type": "display_data"
    }
   ],
   "source": [
    "# Popular dishes analysis\n",
    "popular_dishes = filtered_data['Dish Name_y'].value_counts()\n",
    "print(popular_dishes)\n",
    "\n",
    "# Visualizations\n",
    "sns.barplot(x=popular_dishes.index, y=popular_dishes.values)\n",
    "plt.title(\"Most Popular Dishes\")\n",
    "plt.xticks(rotation=45)\n",
    "plt.show()"
   ]
  },
  {
   "cell_type": "code",
   "execution_count": 117,
   "id": "65e60a35-4fa7-4bed-a6bf-42708e70c09c",
   "metadata": {},
   "outputs": [
    {
     "data": {
      "text/plain": [
       "Text(0.5, 0, 'Time of Day')"
      ]
     },
     "execution_count": 117,
     "metadata": {},
     "output_type": "execute_result"
    },
    {
     "data": {
      "image/png": "[encoded data removed]",
      "text/plain": [
       "<Figure size 640x480 with 1 Axes>"
      ]
     },
     "metadata": {},
     "output_type": "display_data"
    }
   ],
   "source": [
    "# Time of Day Preferences\n",
    "time_preferences = filtered_data['Time of Day'].value_counts()\n",
    "\n",
    "time_preferences.plot(kind='bar', color='orange')\n",
    "plt.title('Order Count by Time of Day')\n",
    "plt.ylabel('Number of Orders')\n",
    "plt.xlabel('Time of Day')"
   ]
  },
  {
   "cell_type": "code",
   "execution_count": 121,
   "id": "fde2addb-08d5-4f6e-a3e5-ab2f570825de",
   "metadata": {},
   "outputs": [
    {
     "data": {
      "text/plain": [
       "Text(0.5, 0, 'Time of Day')"
      ]
     },
     "execution_count": 121,
     "metadata": {},
     "output_type": "execute_result"
    },
    {
     "data": {
      "image/png": "[encoded data removed]",
      "text/plain": [
       "<Figure size 640x480 with 1 Axes>"
      ]
     },
     "metadata": {},
     "output_type": "display_data"
    }
   ],
   "source": [
    "avg_spend = filtered_data.groupby('Time of Day')['Amount (USD)'].mean()\n",
    "\n",
    "avg_spend.plot(kind='bar', color='green')\n",
    "plt.title('Average Spend by Time of Day')\n",
    "plt.ylabel('Average Amount (USD)')\n",
    "plt.xlabel('Time of Day')\n",
    "\n"
   ]
  },
  {
   "cell_type": "code",
   "execution_count": 125,
   "id": "c6f02fb2-238f-440e-894c-4f611d2b1e86",
   "metadata": {},
   "outputs": [
    {
     "data": {
      "text/plain": [
       "Text(0.5, 0, 'Dish Name')"
      ]
     },
     "execution_count": 125,
     "metadata": {},
     "output_type": "execute_result"
    },
    {
     "data": {
      "image/png": "[encoded data removed]",
      "text/plain": [
       "<Figure size 640x480 with 1 Axes>"
      ]
     },
     "metadata": {},
     "output_type": "display_data"
    }
   ],
   "source": [
    "# Ratings Analysis\n",
    "ratings_by_dish = filtered_data.groupby('Dish Name_y')['Rating'].mean()\n",
    "\n",
    "ratings_by_dish.plot(kind='bar', color='purple')\n",
    "plt.title('Average Rating by Dish')\n",
    "plt.ylabel('Average Rating')\n",
    "plt.xlabel('Dish Name')"
   ]
  },
  {
   "cell_type": "code",
   "execution_count": 133,
   "id": "994a5ab7-bf40-41bf-89f8-8f579342c423",
   "metadata": {},
   "outputs": [
    {
     "name": "stdout",
     "output_type": "stream",
     "text": [
      "Repeat Customer Analysis:\n",
      "         Total Unique Orders  Total Spend\n",
      "User ID                                  \n",
      "U001                       3        105.0\n",
      "U003                       3         96.0\n",
      "U002                       3         93.0\n",
      "U005                       2         45.0\n",
      "U004                       2         43.0\n",
      "U007                       1         14.0\n",
      "U006                       1         13.0\n",
      "U008                       1         11.0\n",
      "U009                       0          0.0\n",
      "U010                       0          0.0\n"
     ]
    }
   ],
   "source": [
    "# Repeat Customer Analysis\n",
    "repeat_customers = filtered_data.groupby('User ID').agg({'Order ID': 'nunique', 'Amount (USD)': 'sum'})\n",
    "repeat_customers.rename(columns={'Order ID': 'Total Unique Orders', 'Amount (USD)': 'Total Spend'}, inplace=True)\n",
    "\n",
    "print(\"Repeat Customer Analysis:\")\n",
    "print(repeat_customers.sort_values('Total Spend', ascending=False))"
   ]
  },
  {
   "cell_type": "code",
   "execution_count": 139,
   "id": "6c17255c-05eb-4031-9707-446dbab0c98f",
   "metadata": {},
   "outputs": [
    {
     "name": "stderr",
     "output_type": "stream",
     "text": [
      "C:\\Users\\malle\\AppData\\Local\\Temp\\ipykernel_15212\\3450232253.py:1: SettingWithCopyWarning: \n",
      "A value is trying to be set on a copy of a slice from a DataFrame.\n",
      "Try using .loc[row_indexer,col_indexer] = value instead\n",
      "\n",
      "See the caveats in the documentation: https://pandas.pydata.org/pandas-docs/stable/user_guide/indexing.html#returning-a-view-versus-a-copy\n",
      "  filtered_data['Order Date'] = pd.to_datetime(filtered_data['Order Date'])\n"
     ]
    },
    {
     "data": {
      "image/png": "[encoded data removed]",
      "text/plain": [
       "<Figure size 1000x500 with 1 Axes>"
      ]
     },
     "metadata": {},
     "output_type": "display_data"
    }
   ],
   "source": [
    "\n",
    "filtered_data['Order Date'] = pd.to_datetime(filtered_data['Order Date'])\n",
    "order_frequency = filtered_data.groupby(filtered_data['Order Date'].dt.date)['Order ID'].count()\n",
    "\n",
    "plt.figure(figsize=(10, 5))\n",
    "order_frequency.plot(marker='o', linestyle='-', color='blue')\n",
    "plt.title('Order Frequency Over Time')\n",
    "plt.xlabel('Date')\n",
    "plt.ylabel('Number of Orders')\n",
    "plt.grid()\n",
    "plt.show()"
   ]
  },
  {
   "cell_type": "code",
   "execution_count": 141,
   "id": "0806c08e-aab4-4613-b69c-fad1536999e0",
   "metadata": {},
   "outputs": [
    {
     "data": {
      "image/png": "[encoded data removed]",
      "text/plain": [
       "<Figure size 800x500 with 1 Axes>"
      ]
     },
     "metadata": {},
     "output_type": "display_data"
    }
   ],
   "source": [
    "# Ratings Distribution\n",
    "plt.figure(figsize=(8, 5))\n",
    "sns.histplot(filtered_data['Rating'], bins=10, kde=True, color='purple')\n",
    "plt.title('Distribution of Ratings')\n",
    "plt.xlabel('Rating')\n",
    "plt.ylabel('Frequency')\n",
    "plt.show()"
   ]
  },
  {
   "cell_type": "code",
   "execution_count": 145,
   "id": "4bb533ac-07e1-4315-bb25-febf98a1f9f1",
   "metadata": {},
   "outputs": [
    {
     "data": {
      "image/png": "[encoded data removed]",
      "text/plain": [
       "<Figure size 800x500 with 1 Axes>"
      ]
     },
     "metadata": {},
     "output_type": "display_data"
    }
   ],
   "source": [
    "# Age vs Spending Analysis\n",
    "age_spending = filtered_data.groupby('Age')['Amount (USD)'].sum()\n",
    "\n",
    "plt.figure(figsize=(8, 5))\n",
    "age_spending.plot(kind='bar', color='coral')\n",
    "plt.title('Total Spending by Age')\n",
    "plt.xlabel('Age')\n",
    "plt.ylabel('Total Spending (USD)')\n",
    "plt.show()"
   ]
  },
  {
   "cell_type": "code",
   "execution_count": 129,
   "id": "aaa95636-b0f9-4e33-a5e2-b10486203829",
   "metadata": {},
   "outputs": [
    {
     "name": "stdout",
     "output_type": "stream",
     "text": [
      "\n",
      "Key Insights:\n",
      "\n",
      "Popular Dishes by Revenue:\n",
      " Dish Name_y\n",
      "Spaghetti          9\n",
      "Grilled Chicken    9\n",
      "Caesar Salad       7\n",
      "Pancakes           6\n",
      "Veggie Burger      4\n",
      "Oatmeal            3\n",
      "Name: count, dtype: int64\n",
      "\n",
      "Order Count by Time of Day:\n",
      "Time of Day\n",
      "Night      18\n",
      "Day        11\n",
      "Morning     9\n",
      "Name: count, dtype: int64\n",
      "\n",
      "Average Spend by Time of Day:\n",
      "Time of Day\n",
      "Day        10.000000\n",
      "Morning     7.833333\n",
      "Night      13.305556\n",
      "Name: Amount (USD), dtype: float64\n",
      "\n",
      "Average Rating by Dish:\n",
      "Dish Name_y\n",
      "Caesar Salad       4.000000\n",
      "Grilled Chicken    4.539683\n",
      "Oatmeal            4.000000\n",
      "Pancakes           4.000000\n",
      "Spaghetti          4.444444\n",
      "Veggie Burger      4.214286\n",
      "Name: Rating, dtype: float64\n"
     ]
    }
   ],
   "source": [
    "# Output Key Insights\n",
    "print(\"\\nKey Insights:\")\n",
    "print(f\"\\nPopular Dishes by Revenue:\\n\")\n",
    "print(f\"\\nOrder Count by Time of Day:\\n{time_preferences}\")\n",
    "print(f\"\\nAverage Spend by Time of Day:\\n{avg_spend}\")\n",
    "print(f\"\\nAverage Rating by Dish:\\n{ratings_by_dish}\")\n"
   ]
  },
  {
   "cell_type": "code",
   "execution_count": 147,
   "id": "d955ad5e-fcbb-4a15-ad05-fe2e01c73a8d",
   "metadata": {},
   "outputs": [
    {
     "data": {
      "image/png": "[encoded data removed]",
      "text/plain": [
       "<Figure size 800x600 with 2 Axes>"
      ]
     },
     "metadata": {},
     "output_type": "display_data"
    }
   ],
   "source": [
    "# Correlation Analysis\n",
    "correlation_matrix = filtered_data[['Amount (USD)', 'Rating', 'Session Rating']].corr()\n",
    "\n",
    "plt.figure(figsize=(8, 6))\n",
    "sns.heatmap(correlation_matrix, annot=True, cmap='coolwarm', fmt='.2f')\n",
    "plt.title('Correlation Matrix')\n",
    "plt.show()"
   ]
  },
  {
   "cell_type": "code",
   "execution_count": null,
   "id": "c8745598-a574-43d0-91af-4544ae695d71",
   "metadata": {},
   "outputs": [],
   "source": []
  }
 ],
 "metadata": {
  "kernelspec": {
   "display_name": "Python 3 (ipykernel)",
   "language": "python",
   "name": "python3"
  },
  "language_info": {
   "codemirror_mode": {
    "name": "ipython",
    "version": 3
   },
   "file_extension": ".py",
   "mimetype": "text/x-python",
   "name": "python",
   "nbconvert_exporter": "python",
   "pygments_lexer": "ipython3",
   "version": "3.12.4"
  }
 },
 "nbformat": 4,
 "nbformat_minor": 5
}
